{
 "cells": [
  {
   "cell_type": "code",
   "execution_count": 177,
   "id": "6ade86d5",
   "metadata": {},
   "outputs": [],
   "source": [
    "#Import necessary libraries\n",
    "import pandas as pd\n",
    "import numpy as np\n",
    "import matplotlib.pyplot as plt\n",
    "import seaborn as sns\n",
    "import datetime\n",
    "import torch\n",
    "%matplotlib inline"
   ]
  },
  {
   "cell_type": "code",
   "execution_count": 178,
   "id": "bd724a3f",
   "metadata": {},
   "outputs": [],
   "source": [
    "combined_df = pd.read_csv('Mens_Crossfit_data_cleaned.csv')"
   ]
  },
  {
   "cell_type": "code",
   "execution_count": 179,
   "id": "70e919bf",
   "metadata": {
    "scrolled": false
   },
   "outputs": [
    {
     "name": "stdout",
     "output_type": "stream",
     "text": [
      "<class 'pandas.core.frame.DataFrame'>\n",
      "RangeIndex: 5963 entries, 0 to 5962\n",
      "Data columns (total 17 columns):\n",
      " #   Column          Non-Null Count  Dtype  \n",
      "---  ------          --------------  -----  \n",
      " 0   Userid          5963 non-null   int64  \n",
      " 1   Name            5963 non-null   object \n",
      " 2   Age             5963 non-null   int64  \n",
      " 3   Height_inches   5963 non-null   float64\n",
      " 4   Weight_lbs      5963 non-null   float64\n",
      " 5   Back Squat      5963 non-null   float64\n",
      " 6   Clean_and_Jerk  5963 non-null   float64\n",
      " 7   Snatch          5963 non-null   float64\n",
      " 8   Deadlift        5963 non-null   float64\n",
      " 9   Fight Gone Bad  5963 non-null   float64\n",
      " 10  17.1_time       5963 non-null   float64\n",
      " 11  17.1_reps       5963 non-null   int64  \n",
      " 12  17.2_score      5963 non-null   float64\n",
      " 13  17.3_time       5963 non-null   float64\n",
      " 14  17.3_reps       5963 non-null   int64  \n",
      " 15  17.4_score      5963 non-null   float64\n",
      " 16  17.5_score      5963 non-null   int64  \n",
      "dtypes: float64(11), int64(5), object(1)\n",
      "memory usage: 792.1+ KB\n"
     ]
    }
   ],
   "source": [
    "combined_df.info()"
   ]
  },
  {
   "cell_type": "code",
   "execution_count": 180,
   "id": "22515923",
   "metadata": {},
   "outputs": [
    {
     "data": {
      "text/plain": [
       "Index(['Userid', 'Name', 'Age', 'Height_inches', 'Weight_lbs', 'Back Squat',\n",
       "       'Clean_and_Jerk', 'Snatch', 'Deadlift', 'Fight Gone Bad', '17.1_time',\n",
       "       '17.1_reps', '17.2_score', '17.3_time', '17.3_reps', '17.4_score',\n",
       "       '17.5_score'],\n",
       "      dtype='object')"
      ]
     },
     "execution_count": 180,
     "metadata": {},
     "output_type": "execute_result"
    }
   ],
   "source": [
    "combined_df.columns"
   ]
  },
  {
   "cell_type": "code",
   "execution_count": 181,
   "id": "6d58d3c3",
   "metadata": {},
   "outputs": [],
   "source": [
    "from sklearn.ensemble import RandomForestRegressor\n",
    "from sklearn.model_selection import train_test_split\n",
    "from sklearn.metrics import r2_score,mean_absolute_error\n",
    "\n",
    "#Let's create our training and testing data\n",
    "\n",
    "#Get rid of the names and userid as these will not help when modeling!\n",
    "combined_df.drop(['Userid','Name'], axis = 1, inplace = True)\n"
   ]
  },
  {
   "cell_type": "code",
   "execution_count": 182,
   "id": "a3efabcb",
   "metadata": {},
   "outputs": [],
   "source": [
    "#Let's predict our 17.5 score\n",
    "\n",
    "X = combined_df.drop('17.5_score', axis = 1)\n",
    "y = combined_df['17.5_score']"
   ]
  },
  {
   "cell_type": "code",
   "execution_count": 183,
   "id": "08694cbb",
   "metadata": {},
   "outputs": [
    {
     "data": {
      "text/html": [
       "<style>#sk-container-id-4 {color: black;background-color: white;}#sk-container-id-4 pre{padding: 0;}#sk-container-id-4 div.sk-toggleable {background-color: white;}#sk-container-id-4 label.sk-toggleable__label {cursor: pointer;display: block;width: 100%;margin-bottom: 0;padding: 0.3em;box-sizing: border-box;text-align: center;}#sk-container-id-4 label.sk-toggleable__label-arrow:before {content: \"▸\";float: left;margin-right: 0.25em;color: #696969;}#sk-container-id-4 label.sk-toggleable__label-arrow:hover:before {color: black;}#sk-container-id-4 div.sk-estimator:hover label.sk-toggleable__label-arrow:before {color: black;}#sk-container-id-4 div.sk-toggleable__content {max-height: 0;max-width: 0;overflow: hidden;text-align: left;background-color: #f0f8ff;}#sk-container-id-4 div.sk-toggleable__content pre {margin: 0.2em;color: black;border-radius: 0.25em;background-color: #f0f8ff;}#sk-container-id-4 input.sk-toggleable__control:checked~div.sk-toggleable__content {max-height: 200px;max-width: 100%;overflow: auto;}#sk-container-id-4 input.sk-toggleable__control:checked~label.sk-toggleable__label-arrow:before {content: \"▾\";}#sk-container-id-4 div.sk-estimator input.sk-toggleable__control:checked~label.sk-toggleable__label {background-color: #d4ebff;}#sk-container-id-4 div.sk-label input.sk-toggleable__control:checked~label.sk-toggleable__label {background-color: #d4ebff;}#sk-container-id-4 input.sk-hidden--visually {border: 0;clip: rect(1px 1px 1px 1px);clip: rect(1px, 1px, 1px, 1px);height: 1px;margin: -1px;overflow: hidden;padding: 0;position: absolute;width: 1px;}#sk-container-id-4 div.sk-estimator {font-family: monospace;background-color: #f0f8ff;border: 1px dotted black;border-radius: 0.25em;box-sizing: border-box;margin-bottom: 0.5em;}#sk-container-id-4 div.sk-estimator:hover {background-color: #d4ebff;}#sk-container-id-4 div.sk-parallel-item::after {content: \"\";width: 100%;border-bottom: 1px solid gray;flex-grow: 1;}#sk-container-id-4 div.sk-label:hover label.sk-toggleable__label {background-color: #d4ebff;}#sk-container-id-4 div.sk-serial::before {content: \"\";position: absolute;border-left: 1px solid gray;box-sizing: border-box;top: 0;bottom: 0;left: 50%;z-index: 0;}#sk-container-id-4 div.sk-serial {display: flex;flex-direction: column;align-items: center;background-color: white;padding-right: 0.2em;padding-left: 0.2em;position: relative;}#sk-container-id-4 div.sk-item {position: relative;z-index: 1;}#sk-container-id-4 div.sk-parallel {display: flex;align-items: stretch;justify-content: center;background-color: white;position: relative;}#sk-container-id-4 div.sk-item::before, #sk-container-id-4 div.sk-parallel-item::before {content: \"\";position: absolute;border-left: 1px solid gray;box-sizing: border-box;top: 0;bottom: 0;left: 50%;z-index: -1;}#sk-container-id-4 div.sk-parallel-item {display: flex;flex-direction: column;z-index: 1;position: relative;background-color: white;}#sk-container-id-4 div.sk-parallel-item:first-child::after {align-self: flex-end;width: 50%;}#sk-container-id-4 div.sk-parallel-item:last-child::after {align-self: flex-start;width: 50%;}#sk-container-id-4 div.sk-parallel-item:only-child::after {width: 0;}#sk-container-id-4 div.sk-dashed-wrapped {border: 1px dashed gray;margin: 0 0.4em 0.5em 0.4em;box-sizing: border-box;padding-bottom: 0.4em;background-color: white;}#sk-container-id-4 div.sk-label label {font-family: monospace;font-weight: bold;display: inline-block;line-height: 1.2em;}#sk-container-id-4 div.sk-label-container {text-align: center;}#sk-container-id-4 div.sk-container {/* jupyter's `normalize.less` sets `[hidden] { display: none; }` but bootstrap.min.css set `[hidden] { display: none !important; }` so we also need the `!important` here to be able to override the default hidden behavior on the sphinx rendered scikit-learn.org. See: https://github.com/scikit-learn/scikit-learn/issues/21755 */display: inline-block !important;position: relative;}#sk-container-id-4 div.sk-text-repr-fallback {display: none;}</style><div id=\"sk-container-id-4\" class=\"sk-top-container\"><div class=\"sk-text-repr-fallback\"><pre>RandomForestRegressor(random_state=42)</pre><b>In a Jupyter environment, please rerun this cell to show the HTML representation or trust the notebook. <br />On GitHub, the HTML representation is unable to render, please try loading this page with nbviewer.org.</b></div><div class=\"sk-container\" hidden><div class=\"sk-item\"><div class=\"sk-estimator sk-toggleable\"><input class=\"sk-toggleable__control sk-hidden--visually\" id=\"sk-estimator-id-4\" type=\"checkbox\" checked><label for=\"sk-estimator-id-4\" class=\"sk-toggleable__label sk-toggleable__label-arrow\">RandomForestRegressor</label><div class=\"sk-toggleable__content\"><pre>RandomForestRegressor(random_state=42)</pre></div></div></div></div></div>"
      ],
      "text/plain": [
       "RandomForestRegressor(random_state=42)"
      ]
     },
     "execution_count": 183,
     "metadata": {},
     "output_type": "execute_result"
    }
   ],
   "source": [
    "X_train,X_test,y_train,y_test = train_test_split(X,y,test_size = 0.2, random_state = 42)\n",
    "\n",
    "model = RandomForestRegressor(n_estimators = 100, random_state = 42)\n",
    "\n",
    "model.fit(X_train,y_train)"
   ]
  },
  {
   "cell_type": "code",
   "execution_count": 184,
   "id": "65207a91",
   "metadata": {},
   "outputs": [
    {
     "data": {
      "text/html": [
       "<div>\n",
       "<style scoped>\n",
       "    .dataframe tbody tr th:only-of-type {\n",
       "        vertical-align: middle;\n",
       "    }\n",
       "\n",
       "    .dataframe tbody tr th {\n",
       "        vertical-align: top;\n",
       "    }\n",
       "\n",
       "    .dataframe thead th {\n",
       "        text-align: right;\n",
       "    }\n",
       "</style>\n",
       "<table border=\"1\" class=\"dataframe\">\n",
       "  <thead>\n",
       "    <tr style=\"text-align: right;\">\n",
       "      <th></th>\n",
       "      <th>actual</th>\n",
       "      <th>preds</th>\n",
       "    </tr>\n",
       "  </thead>\n",
       "  <tbody>\n",
       "    <tr>\n",
       "      <th>705</th>\n",
       "      <td>694</td>\n",
       "      <td>562.42</td>\n",
       "    </tr>\n",
       "    <tr>\n",
       "      <th>3328</th>\n",
       "      <td>1058</td>\n",
       "      <td>839.32</td>\n",
       "    </tr>\n",
       "    <tr>\n",
       "      <th>1344</th>\n",
       "      <td>868</td>\n",
       "      <td>713.63</td>\n",
       "    </tr>\n",
       "    <tr>\n",
       "      <th>1219</th>\n",
       "      <td>587</td>\n",
       "      <td>607.05</td>\n",
       "    </tr>\n",
       "    <tr>\n",
       "      <th>1193</th>\n",
       "      <td>767</td>\n",
       "      <td>688.41</td>\n",
       "    </tr>\n",
       "    <tr>\n",
       "      <th>296</th>\n",
       "      <td>475</td>\n",
       "      <td>505.15</td>\n",
       "    </tr>\n",
       "    <tr>\n",
       "      <th>177</th>\n",
       "      <td>1040</td>\n",
       "      <td>892.71</td>\n",
       "    </tr>\n",
       "    <tr>\n",
       "      <th>1421</th>\n",
       "      <td>665</td>\n",
       "      <td>669.78</td>\n",
       "    </tr>\n",
       "    <tr>\n",
       "      <th>3026</th>\n",
       "      <td>677</td>\n",
       "      <td>665.11</td>\n",
       "    </tr>\n",
       "    <tr>\n",
       "      <th>5372</th>\n",
       "      <td>730</td>\n",
       "      <td>660.82</td>\n",
       "    </tr>\n",
       "  </tbody>\n",
       "</table>\n",
       "</div>"
      ],
      "text/plain": [
       "      actual   preds\n",
       "705      694  562.42\n",
       "3328    1058  839.32\n",
       "1344     868  713.63\n",
       "1219     587  607.05\n",
       "1193     767  688.41\n",
       "296      475  505.15\n",
       "177     1040  892.71\n",
       "1421     665  669.78\n",
       "3026     677  665.11\n",
       "5372     730  660.82"
      ]
     },
     "execution_count": 184,
     "metadata": {},
     "output_type": "execute_result"
    }
   ],
   "source": [
    "y_preds = model.predict(X_test)\n",
    "\n",
    "# view the predictions\n",
    "pd.DataFrame({'actual': y_test, 'preds': y_preds}).head(10)"
   ]
  },
  {
   "cell_type": "code",
   "execution_count": 185,
   "id": "a5868400",
   "metadata": {
    "scrolled": true
   },
   "outputs": [
    {
     "data": {
      "text/plain": [
       "0.2986098148197689"
      ]
     },
     "execution_count": 185,
     "metadata": {},
     "output_type": "execute_result"
    }
   ],
   "source": [
    "r2_score(y_test,y_preds)"
   ]
  },
  {
   "cell_type": "code",
   "execution_count": 186,
   "id": "c38dc238",
   "metadata": {},
   "outputs": [
    {
     "data": {
      "text/plain": [
       "164.14396479463537"
      ]
     },
     "execution_count": 186,
     "metadata": {},
     "output_type": "execute_result"
    }
   ],
   "source": [
    "#Calculate MAE\n",
    "mae = mean_absolute_error(y_test,y_preds)\n",
    "mae"
   ]
  },
  {
   "cell_type": "markdown",
   "id": "d13d3d25",
   "metadata": {},
   "source": [
    "### PyTorch Approach"
   ]
  },
  {
   "cell_type": "code",
   "execution_count": 215,
   "id": "c9c6ad6c",
   "metadata": {},
   "outputs": [
    {
     "name": "stdout",
     "output_type": "stream",
     "text": [
      "Requirement already satisfied: torchmetrics in c:\\users\\neel patel\\anaconda3\\lib\\site-packages (1.3.1)\n",
      "Requirement already satisfied: packaging>17.1 in c:\\users\\neel patel\\anaconda3\\lib\\site-packages (from torchmetrics) (22.0)\n",
      "Requirement already satisfied: torch>=1.10.0 in c:\\users\\neel patel\\anaconda3\\lib\\site-packages (from torchmetrics) (1.12.1)\n",
      "Requirement already satisfied: lightning-utilities>=0.8.0 in c:\\users\\neel patel\\anaconda3\\lib\\site-packages (from torchmetrics) (0.10.1)\n",
      "Requirement already satisfied: numpy>1.20.0 in c:\\users\\neel patel\\anaconda3\\lib\\site-packages (from torchmetrics) (1.23.5)\n",
      "Requirement already satisfied: typing-extensions in c:\\users\\neel patel\\anaconda3\\lib\\site-packages (from lightning-utilities>=0.8.0->torchmetrics) (4.4.0)\n",
      "Requirement already satisfied: setuptools in c:\\users\\neel patel\\anaconda3\\lib\\site-packages (from lightning-utilities>=0.8.0->torchmetrics) (65.6.3)\n"
     ]
    }
   ],
   "source": [
    "!pip install torchmetrics"
   ]
  },
  {
   "cell_type": "code",
   "execution_count": 216,
   "id": "d8066aaf",
   "metadata": {},
   "outputs": [],
   "source": [
    "import torch\n",
    "from torch import nn\n",
    "import matplotlib.pyplot as plt\n",
    "\n",
    "X_torch = torch.from_numpy(X.values).type(torch.float32)\n",
    "y_torch = torch.from_numpy(y.values).type(torch.float32)"
   ]
  },
  {
   "cell_type": "code",
   "execution_count": 217,
   "id": "8fd40776",
   "metadata": {},
   "outputs": [],
   "source": [
    "X_train, X_test, y_train, y_test = train_test_split(X_torch, y_torch, test_size=0.33, random_state=42)"
   ]
  },
  {
   "cell_type": "code",
   "execution_count": 218,
   "id": "db392664",
   "metadata": {},
   "outputs": [
    {
     "data": {
      "text/plain": [
       "(torch.float32, torch.float32, torch.float32, torch.float32)"
      ]
     },
     "execution_count": 218,
     "metadata": {},
     "output_type": "execute_result"
    }
   ],
   "source": [
    "X_train.dtype,X_test.dtype,y_train.dtype,y_test.dtype"
   ]
  },
  {
   "cell_type": "code",
   "execution_count": 219,
   "id": "0894ae1c",
   "metadata": {},
   "outputs": [],
   "source": [
    "#Create model and instantiate\n",
    "\n",
    "class WOD_model(nn.Module):\n",
    "    def __init__(self,input_features, output_features, hidden_units):\n",
    "        super().__init__()\n",
    "        \n",
    "        #Create the layers\n",
    "        self.model = nn.Sequential(\n",
    "        nn.Linear(in_features = input_features, out_features = hidden_units),\n",
    "        nn.ReLU(),\n",
    "        nn.Linear(in_features = hidden_units, out_features = hidden_units),\n",
    "        nn.ReLU(),\n",
    "        nn.Linear(in_features = hidden_units, out_features = hidden_units),\n",
    "        nn.ReLU(),\n",
    "        nn.Linear(in_features = hidden_units, out_features = hidden_units),\n",
    "        nn.ReLU(),\n",
    "        nn.Linear(in_features = hidden_units, out_features = output_features),\n",
    "        )\n",
    "        \n",
    "    def forward(self,x):\n",
    "        return self.model(x)\n",
    "        \n",
    "#Instantiate model\n",
    "model_V0 = WOD_model(input_features = combined_df.drop('17.5_score', axis = 1).shape[1], output_features = 1, hidden_units = 16)"
   ]
  },
  {
   "cell_type": "code",
   "execution_count": 220,
   "id": "027ab747",
   "metadata": {},
   "outputs": [
    {
     "data": {
      "text/plain": [
       "<bound method Module.state_dict of WOD_model(\n",
       "  (model): Sequential(\n",
       "    (0): Linear(in_features=14, out_features=16, bias=True)\n",
       "    (1): ReLU()\n",
       "    (2): Linear(in_features=16, out_features=16, bias=True)\n",
       "    (3): ReLU()\n",
       "    (4): Linear(in_features=16, out_features=16, bias=True)\n",
       "    (5): ReLU()\n",
       "    (6): Linear(in_features=16, out_features=16, bias=True)\n",
       "    (7): ReLU()\n",
       "    (8): Linear(in_features=16, out_features=1, bias=True)\n",
       "  )\n",
       ")>"
      ]
     },
     "execution_count": 220,
     "metadata": {},
     "output_type": "execute_result"
    }
   ],
   "source": [
    "model_V0.state_dict"
   ]
  },
  {
   "cell_type": "code",
   "execution_count": 221,
   "id": "3bdd1a48",
   "metadata": {},
   "outputs": [],
   "source": [
    "loss_fn = nn.L1Loss()\n",
    "optimizer = torch.optim.SGD(params = model_V0.parameters(), lr = 0.02)"
   ]
  },
  {
   "cell_type": "code",
   "execution_count": 222,
   "id": "9acc251f",
   "metadata": {},
   "outputs": [
    {
     "name": "stdout",
     "output_type": "stream",
     "text": [
      "Epoch: 0| Training Loss: 885.8988037109375 | Test Loss: 322.9837341308594\n"
     ]
    },
    {
     "name": "stderr",
     "output_type": "stream",
     "text": [
      "C:\\Users\\Neel Patel\\anaconda3\\lib\\site-packages\\torch\\nn\\modules\\loss.py:96: UserWarning: Using a target size (torch.Size([3995])) that is different to the input size (torch.Size([3995, 1])). This will likely lead to incorrect results due to broadcasting. Please ensure they have the same size.\n",
      "  return F.l1_loss(input, target, reduction=self.reduction)\n",
      "C:\\Users\\Neel Patel\\anaconda3\\lib\\site-packages\\torch\\nn\\modules\\loss.py:96: UserWarning: Using a target size (torch.Size([1968])) that is different to the input size (torch.Size([1968, 1])). This will likely lead to incorrect results due to broadcasting. Please ensure they have the same size.\n",
      "  return F.l1_loss(input, target, reduction=self.reduction)\n"
     ]
    },
    {
     "name": "stdout",
     "output_type": "stream",
     "text": [
      "Epoch: 100| Training Loss: 262.1097412109375 | Test Loss: 8703.2119140625\n",
      "Epoch: 200| Training Loss: 262.1084899902344 | Test Loss: 8706.2744140625\n",
      "Epoch: 300| Training Loss: 262.1086120605469 | Test Loss: 8695.8740234375\n",
      "Epoch: 400| Training Loss: 262.10955810546875 | Test Loss: 8704.00390625\n",
      "Epoch: 500| Training Loss: 262.10968017578125 | Test Loss: 8703.7412109375\n",
      "Epoch: 600| Training Loss: 262.10882568359375 | Test Loss: 8696.6650390625\n",
      "Epoch: 700| Training Loss: 262.109375 | Test Loss: 8698.064453125\n",
      "Epoch: 800| Training Loss: 262.1085205078125 | Test Loss: 8706.236328125\n",
      "Epoch: 900| Training Loss: 262.1095886230469 | Test Loss: 8704.2275390625\n"
     ]
    }
   ],
   "source": [
    "#Create training and testing loop\n",
    "\n",
    "torch.manual_seed(42)\n",
    "\n",
    "epochs = 1000\n",
    "\n",
    "for epoch in range(epochs):\n",
    "    model_V0.train()\n",
    "    \n",
    "    y_pred = model_V0(X_train)\n",
    "    \n",
    "    loss = loss_fn(y_pred,y_train)\n",
    "    \n",
    "    optimizer.zero_grad()\n",
    "    \n",
    "    loss.backward()\n",
    "    \n",
    "    optimizer.step()\n",
    "    \n",
    "    ### Testing loop\n",
    "    \n",
    "    model_V0.eval()\n",
    "    \n",
    "    with torch.inference_mode():\n",
    "        test_pred = model_V0(X_test)\n",
    "        test_loss = loss_fn(test_pred,y_test)\n",
    "    if epoch%100 == 0:\n",
    "            print(f\"Epoch: {epoch}| Training Loss: {loss} | Test Loss: {test_loss}\")"
   ]
  },
  {
   "cell_type": "code",
   "execution_count": 223,
   "id": "43a26349",
   "metadata": {},
   "outputs": [
    {
     "data": {
      "text/plain": [
       "tensor(262.1086, grad_fn=<SqueezeBackward0>)"
      ]
     },
     "execution_count": 223,
     "metadata": {},
     "output_type": "execute_result"
    }
   ],
   "source": [
    "from torchmetrics.regression import MeanAbsoluteError\n",
    "\n",
    "mae_fn = MeanAbsoluteError()\n",
    "\n",
    "mae_fn(y_pred.squeeze(),y_train)"
   ]
  },
  {
   "cell_type": "code",
   "execution_count": 224,
   "id": "f29903a4",
   "metadata": {},
   "outputs": [
    {
     "data": {
      "text/plain": [
       "<function Tensor.detach>"
      ]
     },
     "execution_count": 224,
     "metadata": {},
     "output_type": "execute_result"
    }
   ],
   "source": [
    "y_pred.squeeze().detach"
   ]
  },
  {
   "cell_type": "code",
   "execution_count": 225,
   "id": "4c309e6a",
   "metadata": {},
   "outputs": [],
   "source": [
    "pred = y_pred.squeeze().detach().numpy()\n",
    "true_vals = y_train.detach().numpy()\n"
   ]
  },
  {
   "cell_type": "code",
   "execution_count": 226,
   "id": "ab8871a2",
   "metadata": {},
   "outputs": [
    {
     "data": {
      "text/plain": [
       "-0.02840681116002508"
      ]
     },
     "execution_count": 226,
     "metadata": {},
     "output_type": "execute_result"
    }
   ],
   "source": [
    "\n",
    "r2_score(true_vals,pred)"
   ]
  },
  {
   "cell_type": "code",
   "execution_count": 227,
   "id": "a60937fb",
   "metadata": {},
   "outputs": [
    {
     "data": {
      "text/html": [
       "<div>\n",
       "<style scoped>\n",
       "    .dataframe tbody tr th:only-of-type {\n",
       "        vertical-align: middle;\n",
       "    }\n",
       "\n",
       "    .dataframe tbody tr th {\n",
       "        vertical-align: top;\n",
       "    }\n",
       "\n",
       "    .dataframe thead th {\n",
       "        text-align: right;\n",
       "    }\n",
       "</style>\n",
       "<table border=\"1\" class=\"dataframe\">\n",
       "  <thead>\n",
       "    <tr style=\"text-align: right;\">\n",
       "      <th></th>\n",
       "      <th>actual</th>\n",
       "      <th>preds</th>\n",
       "    </tr>\n",
       "  </thead>\n",
       "  <tbody>\n",
       "    <tr>\n",
       "      <th>0</th>\n",
       "      <td>638.0</td>\n",
       "      <td>828.07019</td>\n",
       "    </tr>\n",
       "    <tr>\n",
       "      <th>1</th>\n",
       "      <td>899.0</td>\n",
       "      <td>828.07019</td>\n",
       "    </tr>\n",
       "    <tr>\n",
       "      <th>2</th>\n",
       "      <td>1005.0</td>\n",
       "      <td>828.07019</td>\n",
       "    </tr>\n",
       "    <tr>\n",
       "      <th>3</th>\n",
       "      <td>869.0</td>\n",
       "      <td>828.07019</td>\n",
       "    </tr>\n",
       "    <tr>\n",
       "      <th>4</th>\n",
       "      <td>833.0</td>\n",
       "      <td>828.07019</td>\n",
       "    </tr>\n",
       "    <tr>\n",
       "      <th>5</th>\n",
       "      <td>753.0</td>\n",
       "      <td>828.07019</td>\n",
       "    </tr>\n",
       "    <tr>\n",
       "      <th>6</th>\n",
       "      <td>438.0</td>\n",
       "      <td>828.07019</td>\n",
       "    </tr>\n",
       "    <tr>\n",
       "      <th>7</th>\n",
       "      <td>1062.0</td>\n",
       "      <td>828.07019</td>\n",
       "    </tr>\n",
       "    <tr>\n",
       "      <th>8</th>\n",
       "      <td>941.0</td>\n",
       "      <td>828.07019</td>\n",
       "    </tr>\n",
       "    <tr>\n",
       "      <th>9</th>\n",
       "      <td>739.0</td>\n",
       "      <td>828.07019</td>\n",
       "    </tr>\n",
       "  </tbody>\n",
       "</table>\n",
       "</div>"
      ],
      "text/plain": [
       "   actual      preds\n",
       "0   638.0  828.07019\n",
       "1   899.0  828.07019\n",
       "2  1005.0  828.07019\n",
       "3   869.0  828.07019\n",
       "4   833.0  828.07019\n",
       "5   753.0  828.07019\n",
       "6   438.0  828.07019\n",
       "7  1062.0  828.07019\n",
       "8   941.0  828.07019\n",
       "9   739.0  828.07019"
      ]
     },
     "execution_count": 227,
     "metadata": {},
     "output_type": "execute_result"
    }
   ],
   "source": [
    "pd.DataFrame({'actual': true_vals, 'preds': pred}).head(10)"
   ]
  },
  {
   "cell_type": "code",
   "execution_count": null,
   "id": "e6337909",
   "metadata": {},
   "outputs": [],
   "source": []
  }
 ],
 "metadata": {
  "kernelspec": {
   "display_name": "Python 3 (ipykernel)",
   "language": "python",
   "name": "python3"
  },
  "language_info": {
   "codemirror_mode": {
    "name": "ipython",
    "version": 3
   },
   "file_extension": ".py",
   "mimetype": "text/x-python",
   "name": "python",
   "nbconvert_exporter": "python",
   "pygments_lexer": "ipython3",
   "version": "3.10.9"
  }
 },
 "nbformat": 4,
 "nbformat_minor": 5
}
